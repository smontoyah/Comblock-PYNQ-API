{
 "cells": [
  {
   "cell_type": "code",
   "execution_count": 1,
   "id": "108337ff",
   "metadata": {},
   "outputs": [
    {
     "data": {
      "application/javascript": [
       "\n",
       "try {\n",
       "require(['notebook/js/codecell'], function(codecell) {\n",
       "  codecell.CodeCell.options_default.highlight_modes[\n",
       "      'magic_text/x-csrc'] = {'reg':[/^%%microblaze/]};\n",
       "  Jupyter.notebook.events.one('kernel_ready.Kernel', function(){\n",
       "      Jupyter.notebook.get_cells().map(function(cell){\n",
       "          if (cell.cell_type == 'code'){ cell.auto_highlight(); } }) ;\n",
       "  });\n",
       "});\n",
       "} catch (e) {};\n"
      ]
     },
     "metadata": {},
     "output_type": "display_data"
    },
    {
     "data": {
      "application/javascript": [
       "\n",
       "try {\n",
       "require(['notebook/js/codecell'], function(codecell) {\n",
       "  codecell.CodeCell.options_default.highlight_modes[\n",
       "      'magic_text/x-csrc'] = {'reg':[/^%%pybind11/]};\n",
       "  Jupyter.notebook.events.one('kernel_ready.Kernel', function(){\n",
       "      Jupyter.notebook.get_cells().map(function(cell){\n",
       "          if (cell.cell_type == 'code'){ cell.auto_highlight(); } }) ;\n",
       "  });\n",
       "});\n",
       "} catch (e) {};\n"
      ]
     },
     "metadata": {},
     "output_type": "display_data"
    }
   ],
   "source": [
    "from pynq import Overlay\n",
    "\n",
    "overlay = Overlay('/home/xilinx/jupyter_notebooks/Comblock-PYNQ-API/comblock/test/testOverlay/comblock_test2_bd.bit')"
   ]
  },
  {
   "cell_type": "code",
   "execution_count": 17,
   "id": "d449fd72",
   "metadata": {},
   "outputs": [],
   "source": [
    "overlay.comblock_0?"
   ]
  },
  {
   "cell_type": "code",
   "execution_count": 6,
   "id": "b74bc997",
   "metadata": {},
   "outputs": [],
   "source": [
    "from pynq import DefaultIP\n",
    "\n",
    "class myComblock(DefaultIP):\n",
    "    def __init__(self, description):\n",
    "        super().__init__(description=description)\n",
    "        self.description=description\n",
    "\n",
    "    bindto = ['www.ictp.it:user:comblock:2.0']"
   ]
  },
  {
   "cell_type": "code",
   "execution_count": 18,
   "id": "5f9c11f5",
   "metadata": {},
   "outputs": [],
   "source": [
    "overlay = Overlay('/home/xilinx/jupyter_notebooks/Comblock-PYNQ-API/comblock/test/testOverlay/comblock_test2_bd.bit')\n",
    "overlay?"
   ]
  },
  {
   "cell_type": "code",
   "execution_count": 9,
   "id": "aa85c6b5",
   "metadata": {},
   "outputs": [],
   "source": [
    "from comblock import Comblock"
   ]
  },
  {
   "cell_type": "code",
   "execution_count": 16,
   "id": "9d31a511",
   "metadata": {},
   "outputs": [
    {
     "name": "stdout",
     "output_type": "stream",
     "text": [
      "entro aca 1\n"
     ]
    }
   ],
   "source": [
    "myComblock = Comblock(overlay.comblock_0.description)"
   ]
  },
  {
   "cell_type": "code",
   "execution_count": 19,
   "id": "9e380807",
   "metadata": {},
   "outputs": [],
   "source": [
    "myComblock?"
   ]
  },
  {
   "cell_type": "markdown",
   "id": "b1960a52",
   "metadata": {},
   "source": [
    "Prueba de lectura y escritura de registros (regs 0-3)"
   ]
  },
  {
   "cell_type": "code",
   "execution_count": 13,
   "id": "505da4d9",
   "metadata": {},
   "outputs": [],
   "source": [
    "myComblock.OUT_REGS.writeReg(3,6)"
   ]
  },
  {
   "cell_type": "code",
   "execution_count": 14,
   "id": "6880cc2a",
   "metadata": {},
   "outputs": [
    {
     "data": {
      "text/plain": [
       "6"
      ]
     },
     "execution_count": 14,
     "metadata": {},
     "output_type": "execute_result"
    }
   ],
   "source": [
    "myComblock.OUT_REGS.readReg(3)"
   ]
  },
  {
   "cell_type": "markdown",
   "id": "15f2ed55",
   "metadata": {},
   "source": [
    "Prueba de lectura de FIFO (conectada a un contador)"
   ]
  },
  {
   "cell_type": "code",
   "execution_count": 41,
   "id": "6f031ad8",
   "metadata": {},
   "outputs": [
    {
     "name": "stdout",
     "output_type": "stream",
     "text": [
      "7957\n",
      "20451\n",
      "32756\n",
      "45579\n",
      "49852\n",
      "62769\n",
      "11320\n",
      "24293\n",
      "36654\n",
      "49068\n"
     ]
    }
   ],
   "source": [
    "for i in range(0,10):\n",
    "    y = myComblock.FIFO_IN.readF()\n",
    "    print(y)"
   ]
  },
  {
   "cell_type": "code",
   "execution_count": null,
   "id": "39cffa43",
   "metadata": {},
   "outputs": [],
   "source": []
  },
  {
   "cell_type": "code",
   "execution_count": null,
   "id": "de7ba767",
   "metadata": {},
   "outputs": [],
   "source": []
  }
 ],
 "metadata": {
  "kernelspec": {
   "display_name": "Python 3 (ipykernel)",
   "language": "python",
   "name": "python3"
  },
  "language_info": {
   "codemirror_mode": {
    "name": "ipython",
    "version": 3
   },
   "file_extension": ".py",
   "mimetype": "text/x-python",
   "name": "python",
   "nbconvert_exporter": "python",
   "pygments_lexer": "ipython3",
   "version": "3.10.4"
  }
 },
 "nbformat": 4,
 "nbformat_minor": 5
}
