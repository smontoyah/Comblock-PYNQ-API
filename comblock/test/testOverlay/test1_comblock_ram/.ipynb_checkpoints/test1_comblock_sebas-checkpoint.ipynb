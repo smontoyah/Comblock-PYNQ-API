{
 "cells": [
  {
   "cell_type": "code",
   "execution_count": 98,
   "id": "aea8cd49",
   "metadata": {},
   "outputs": [],
   "source": [
    "from pynq import Overlay\n",
    "\n",
    "overlay = Overlay('/home/xilinx/jupyter_notebooks/Comblock-PYNQ-API/comblock/test/testOverlay/design_1.bit')"
   ]
  },
  {
   "cell_type": "code",
   "execution_count": 113,
   "id": "216d38e2",
   "metadata": {},
   "outputs": [],
   "source": [
    "overlay.comblock?"
   ]
  },
  {
   "cell_type": "code",
   "execution_count": 206,
   "id": "2dff7ca0",
   "metadata": {},
   "outputs": [],
   "source": [
    "from pynq import DefaultIP\n",
    "\n",
    "class myComblock(DefaultIP):\n",
    "    def __init__(self, description):\n",
    "        super().__init__(description=description)\n",
    "        self.description=description\n",
    "\n",
    "    bindto = ['www.ictp.it:user:comblock:2.0']\n",
    "\n",
    "    "
   ]
  },
  {
   "cell_type": "code",
   "execution_count": 207,
   "id": "11daffcf",
   "metadata": {},
   "outputs": [],
   "source": [
    "overlay = Overlay('/home/xilinx/jupyter_notebooks/Comblock-PYNQ-API/comblock/test/testOverlay/design_1.bit')\n",
    "overlay?"
   ]
  },
  {
   "cell_type": "markdown",
   "id": "318001ca",
   "metadata": {},
   "source": [
    "Lectura y escritura en mmio directa"
   ]
  },
  {
   "cell_type": "code",
   "execution_count": 157,
   "id": "e5f998e4",
   "metadata": {},
   "outputs": [],
   "source": [
    "overlay.comblock.write(16,5) #escribiendo el valor 5 en el reg 16"
   ]
  },
  {
   "cell_type": "code",
   "execution_count": 158,
   "id": "675d51b0",
   "metadata": {},
   "outputs": [
    {
     "data": {
      "text/plain": [
       "5"
      ]
     },
     "execution_count": 158,
     "metadata": {},
     "output_type": "execute_result"
    }
   ],
   "source": [
    "overlay.comblock.read(16) #leyendo en el reg 16, funciona hasta el 31 "
   ]
  },
  {
   "cell_type": "code",
   "execution_count": 241,
   "id": "276650ff",
   "metadata": {},
   "outputs": [],
   "source": [
    "#overlay.comblock.description"
   ]
  },
  {
   "cell_type": "code",
   "execution_count": 239,
   "id": "64770e53",
   "metadata": {},
   "outputs": [],
   "source": [
    "#note que mem_id sale en AXIF, esto ocurre porque el hardware tiene RAM. \n",
    "#Voy a crear uno sin RAM a ver si sale AXIL y la instancia myComblock coge\n",
    "#los atributos OUT_REGS etc"
   ]
  },
  {
   "cell_type": "code",
   "execution_count": 242,
   "id": "a614be2d",
   "metadata": {},
   "outputs": [],
   "source": [
    "from comblock import Comblock"
   ]
  },
  {
   "cell_type": "code",
   "execution_count": 244,
   "id": "66b5976d",
   "metadata": {},
   "outputs": [
    {
     "name": "stdout",
     "output_type": "stream",
     "text": [
      "entro aca 2\n"
     ]
    }
   ],
   "source": [
    "myComblock = Comblock(overlay.comblock.description)"
   ]
  },
  {
   "cell_type": "code",
   "execution_count": 240,
   "id": "52c8e3d6",
   "metadata": {},
   "outputs": [],
   "source": [
    "#dir(myComblock)"
   ]
  },
  {
   "cell_type": "code",
   "execution_count": 237,
   "id": "e1888a16",
   "metadata": {},
   "outputs": [],
   "source": [
    "myComblock?"
   ]
  },
  {
   "cell_type": "code",
   "execution_count": 232,
   "id": "c86b9190",
   "metadata": {},
   "outputs": [
    {
     "ename": "AttributeError",
     "evalue": "'Comblock' object has no attribute 'OUT_REGS'",
     "output_type": "error",
     "traceback": [
      "\u001b[0;31m---------------------------------------------------------------------------\u001b[0m",
      "\u001b[0;31mAttributeError\u001b[0m                            Traceback (most recent call last)",
      "Input \u001b[0;32mIn [232]\u001b[0m, in \u001b[0;36m<cell line: 1>\u001b[0;34m()\u001b[0m\n\u001b[0;32m----> 1\u001b[0m \u001b[43mmyComblock\u001b[49m\u001b[38;5;241;43m.\u001b[39;49m\u001b[43mOUT_REGS\u001b[49m\u001b[38;5;241m.\u001b[39mwriteReg(\u001b[38;5;241m12\u001b[39m,\u001b[38;5;241m6\u001b[39m)\n",
      "\u001b[0;31mAttributeError\u001b[0m: 'Comblock' object has no attribute 'OUT_REGS'"
     ]
    }
   ],
   "source": [
    "myComblock.OUT_REGS.writeReg(12,6) #no funciona, porque está entrando al segundo if con AXIF"
   ]
  },
  {
   "cell_type": "markdown",
   "id": "ba1d4b0d",
   "metadata": {},
   "source": [
    "Uso de fifo"
   ]
  },
  {
   "cell_type": "markdown",
   "id": "199e61c5",
   "metadata": {},
   "source": [
    "comblock_test.py automatiza el testeo de los regs, fifos y ram a manera de \"eco\" y cuando finalizay todo coincide, avisa que todo está funcionando bien"
   ]
  },
  {
   "cell_type": "markdown",
   "id": "0d05dcad",
   "metadata": {},
   "source": [
    "// Defines\n",
    "//\n",
    "\n",
    "#define CB_IREG0             0\n",
    "#define CB_IREG1             1\n",
    "#define CB_IREG2             2\n",
    "#define CB_IREG3             3\n",
    "#define CB_IREG4             4\n",
    "#define CB_IREG5             5\n",
    "#define CB_IREG6             6\n",
    "#define CB_IREG7             7\n",
    "#define CB_IREG8             8\n",
    "#define CB_IREG9             9\n",
    "#define CB_IREG10            10\n",
    "#define CB_IREG11            11\n",
    "#define CB_IREG12            12\n",
    "#define CB_IREG13            13\n",
    "#define CB_IREG14            14\n",
    "#define CB_IREG15            15\n",
    "\n",
    "#define CB_OREG0             16\n",
    "#define CB_OREG1             17\n",
    "#define CB_OREG2             18\n",
    "#define CB_OREG3             19\n",
    "#define CB_OREG4             20\n",
    "#define CB_OREG5             21\n",
    "#define CB_OREG6             22\n",
    "#define CB_OREG7             23\n",
    "#define CB_OREG8             24\n",
    "#define CB_OREG9             25\n",
    "#define CB_OREG10            26\n",
    "#define CB_OREG11            27\n",
    "#define CB_OREG12            28\n",
    "#define CB_OREG13            29\n",
    "#define CB_OREG14            30\n",
    "#define CB_OREG15            31\n",
    "\n",
    "#define CB_IFIFO_VALUE       32\n",
    "#define CB_IFIFO_CONTROL     33\n",
    "#define CB_IFIFO_STATUS      34\n",
    "\n",
    "// RFU: 35\n",
    "\n",
    "#define CB_OFIFO_VALUE       36\n",
    "#define CB_OFIFO_CONTROL     37\n",
    "#define CB_OFIFO_STATUS      38\n",
    "\n",
    "// RFU: 39, 40:63\n",
    "\n",
    "//\n",
    "// Types\n",
    "//\n",
    "\n",
    "typedef __UINTPTR_TYPE__ UINTPTR;\n",
    "typedef __UINT32_TYPE__  u32;\n",
    "\n",
    "//\n",
    "// Functions\n",
    "//\n",
    "\n",
    "static inline void cbWrite(UINTPTR baseaddr, u32 reg, u32 value) {\n",
    "   volatile u32 *addr = (volatile u32 *)(baseaddr + reg*4);\n",
    "   *addr = value;\n",
    "}\n",
    "\n",
    "static inline u32 cbRead(UINTPTR baseaddr, u32 reg) {\n",
    "   return *(volatile u32 *)(baseaddr + reg*4);\n",
    "}\n",
    "\n",
    "static inline void cbWriteBulk(UINTPTR baseaddr, int *buffer, u32 depth) {\n",
    "   memcpy((UINTPTR *)baseaddr, buffer, depth * sizeof(int));\n",
    "}\n",
    "\n",
    "static inline void cbReadBulk(int *buffer, UINTPTR baseaddr, u32 depth) {\n",
    "   memcpy(buffer, (UINTPTR *)baseaddr, depth * sizeof(int));\n",
    "}\n",
    "\n",
    "#endif // COMBLOCK_H\n"
   ]
  }
 ],
 "metadata": {
  "kernelspec": {
   "display_name": "Python 3 (ipykernel)",
   "language": "python",
   "name": "python3"
  },
  "language_info": {
   "codemirror_mode": {
    "name": "ipython",
    "version": 3
   },
   "file_extension": ".py",
   "mimetype": "text/x-python",
   "name": "python",
   "nbconvert_exporter": "python",
   "pygments_lexer": "ipython3",
   "version": "3.10.4"
  }
 },
 "nbformat": 4,
 "nbformat_minor": 5
}
