{
 "cells": [
  {
   "cell_type": "code",
   "execution_count": 1,
   "id": "72642e6b",
   "metadata": {},
   "outputs": [
    {
     "data": {
      "application/javascript": [
       "\n",
       "try {\n",
       "require(['notebook/js/codecell'], function(codecell) {\n",
       "  codecell.CodeCell.options_default.highlight_modes[\n",
       "      'magic_text/x-csrc'] = {'reg':[/^%%microblaze/]};\n",
       "  Jupyter.notebook.events.one('kernel_ready.Kernel', function(){\n",
       "      Jupyter.notebook.get_cells().map(function(cell){\n",
       "          if (cell.cell_type == 'code'){ cell.auto_highlight(); } }) ;\n",
       "  });\n",
       "});\n",
       "} catch (e) {};\n"
      ]
     },
     "metadata": {},
     "output_type": "display_data"
    },
    {
     "data": {
      "application/javascript": [
       "\n",
       "try {\n",
       "require(['notebook/js/codecell'], function(codecell) {\n",
       "  codecell.CodeCell.options_default.highlight_modes[\n",
       "      'magic_text/x-csrc'] = {'reg':[/^%%pybind11/]};\n",
       "  Jupyter.notebook.events.one('kernel_ready.Kernel', function(){\n",
       "      Jupyter.notebook.get_cells().map(function(cell){\n",
       "          if (cell.cell_type == 'code'){ cell.auto_highlight(); } }) ;\n",
       "  });\n",
       "});\n",
       "} catch (e) {};\n"
      ]
     },
     "metadata": {},
     "output_type": "display_data"
    }
   ],
   "source": [
    "from pynq import Overlay\n",
    "\n",
    "overlay = Overlay('/home/xilinx/jupyter_notebooks/Comblock-PYNQ-API/comblock/test/testOverlay/Top.bit')"
   ]
  },
  {
   "cell_type": "code",
   "execution_count": 3,
   "id": "c1917c71",
   "metadata": {},
   "outputs": [],
   "source": [
    "overlay.comblock_0?"
   ]
  },
  {
   "cell_type": "code",
   "execution_count": 4,
   "id": "b294c3a3",
   "metadata": {},
   "outputs": [],
   "source": [
    "from pynq import DefaultIP\n",
    "\n",
    "class myComblock(DefaultIP):\n",
    "    def __init__(self, description):\n",
    "        super().__init__(description=description)\n",
    "        self.description=description\n",
    "\n",
    "    bindto = ['www.ictp.it:user:comblock:2.0']"
   ]
  },
  {
   "cell_type": "code",
   "execution_count": 5,
   "id": "ebfd2efe",
   "metadata": {},
   "outputs": [],
   "source": [
    "overlay = Overlay('/home/xilinx/jupyter_notebooks/Comblock-PYNQ-API/comblock/test/testOverlay/Top.bit')\n",
    "overlay?"
   ]
  },
  {
   "cell_type": "code",
   "execution_count": 6,
   "id": "ded6cd83",
   "metadata": {},
   "outputs": [],
   "source": [
    "from comblock import Comblock"
   ]
  },
  {
   "cell_type": "code",
   "execution_count": 7,
   "id": "148101cb",
   "metadata": {},
   "outputs": [
    {
     "name": "stdout",
     "output_type": "stream",
     "text": [
      "entro aca 1\n"
     ]
    }
   ],
   "source": [
    "myComblock = Comblock(overlay.comblock_0.description)"
   ]
  },
  {
   "cell_type": "code",
   "execution_count": null,
   "id": "bf69e954",
   "metadata": {},
   "outputs": [],
   "source": []
  }
 ],
 "metadata": {
  "kernelspec": {
   "display_name": "Python 3 (ipykernel)",
   "language": "python",
   "name": "python3"
  },
  "language_info": {
   "codemirror_mode": {
    "name": "ipython",
    "version": 3
   },
   "file_extension": ".py",
   "mimetype": "text/x-python",
   "name": "python",
   "nbconvert_exporter": "python",
   "pygments_lexer": "ipython3",
   "version": "3.10.4"
  }
 },
 "nbformat": 4,
 "nbformat_minor": 5
}
