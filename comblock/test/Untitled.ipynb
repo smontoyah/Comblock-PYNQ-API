{
 "cells": [
  {
   "cell_type": "code",
   "execution_count": 1,
   "id": "3cb9e5c6",
   "metadata": {},
   "outputs": [],
   "source": [
    "from pynq import Overlay \n",
    "from comblock import Comblock"
   ]
  },
  {
   "cell_type": "code",
   "execution_count": 2,
   "id": "6d2aac83",
   "metadata": {},
   "outputs": [
    {
     "data": {
      "application/javascript": [
       "\n",
       "try {\n",
       "require(['notebook/js/codecell'], function(codecell) {\n",
       "  codecell.CodeCell.options_default.highlight_modes[\n",
       "      'magic_text/x-csrc'] = {'reg':[/^%%microblaze/]};\n",
       "  Jupyter.notebook.events.one('kernel_ready.Kernel', function(){\n",
       "      Jupyter.notebook.get_cells().map(function(cell){\n",
       "          if (cell.cell_type == 'code'){ cell.auto_highlight(); } }) ;\n",
       "  });\n",
       "});\n",
       "} catch (e) {};\n"
      ]
     },
     "metadata": {},
     "output_type": "display_data"
    },
    {
     "data": {
      "application/javascript": [
       "\n",
       "try {\n",
       "require(['notebook/js/codecell'], function(codecell) {\n",
       "  codecell.CodeCell.options_default.highlight_modes[\n",
       "      'magic_text/x-csrc'] = {'reg':[/^%%pybind11/]};\n",
       "  Jupyter.notebook.events.one('kernel_ready.Kernel', function(){\n",
       "      Jupyter.notebook.get_cells().map(function(cell){\n",
       "          if (cell.cell_type == 'code'){ cell.auto_highlight(); } }) ;\n",
       "  });\n",
       "});\n",
       "} catch (e) {};\n"
      ]
     },
     "metadata": {},
     "output_type": "display_data"
    }
   ],
   "source": [
    "ov = Overlay(\"testOverlay/design_1.bit\")"
   ]
  },
  {
   "cell_type": "code",
   "execution_count": 3,
   "id": "4df055ab",
   "metadata": {},
   "outputs": [
    {
     "ename": "AttributeError",
     "evalue": "register_map only available if the .hwh is provided",
     "output_type": "error",
     "traceback": [
      "\u001b[0;31m---------------------------------------------------------------------------\u001b[0m",
      "\u001b[0;31mAttributeError\u001b[0m                            Traceback (most recent call last)",
      "Input \u001b[0;32mIn [3]\u001b[0m, in \u001b[0;36m<cell line: 1>\u001b[0;34m()\u001b[0m\n\u001b[0;32m----> 1\u001b[0m \u001b[43mov\u001b[49m\u001b[38;5;241;43m.\u001b[39;49m\u001b[43mcomblock\u001b[49m\u001b[38;5;241;43m.\u001b[39;49m\u001b[43mregister_map\u001b[49m()\n",
      "File \u001b[0;32m/usr/local/share/pynq-venv/lib/python3.10/site-packages/pynq/overlay.py:773\u001b[0m, in \u001b[0;36mDefaultIP.register_map\u001b[0;34m(self)\u001b[0m\n\u001b[1;32m    769\u001b[0m         \u001b[38;5;28mself\u001b[39m\u001b[38;5;241m.\u001b[39m_register_map \u001b[38;5;241m=\u001b[39m RegisterMap\u001b[38;5;241m.\u001b[39mcreate_subclass(\n\u001b[1;32m    770\u001b[0m             \u001b[38;5;28mself\u001b[39m\u001b[38;5;241m.\u001b[39m_register_name, \u001b[38;5;28mself\u001b[39m\u001b[38;5;241m.\u001b[39m_registers\n\u001b[1;32m    771\u001b[0m         )(\u001b[38;5;28mself\u001b[39m\u001b[38;5;241m.\u001b[39mmmio\u001b[38;5;241m.\u001b[39marray)\n\u001b[1;32m    772\u001b[0m     \u001b[38;5;28;01melse\u001b[39;00m:\n\u001b[0;32m--> 773\u001b[0m         \u001b[38;5;28;01mraise\u001b[39;00m \u001b[38;5;167;01mAttributeError\u001b[39;00m(\n\u001b[1;32m    774\u001b[0m             \u001b[38;5;124m\"\u001b[39m\u001b[38;5;124mregister_map only available if the .hwh is provided\u001b[39m\u001b[38;5;124m\"\u001b[39m\n\u001b[1;32m    775\u001b[0m         )\n\u001b[1;32m    776\u001b[0m \u001b[38;5;28;01mreturn\u001b[39;00m \u001b[38;5;28mself\u001b[39m\u001b[38;5;241m.\u001b[39m_register_map\n",
      "\u001b[0;31mAttributeError\u001b[0m: register_map only available if the .hwh is provided"
     ]
    }
   ],
   "source": [
    "ov.comblock.register_map()"
   ]
  },
  {
   "cell_type": "code",
   "execution_count": null,
   "id": "95b7e248",
   "metadata": {},
   "outputs": [],
   "source": []
  }
 ],
 "metadata": {
  "kernelspec": {
   "display_name": "Python 3 (ipykernel)",
   "language": "python",
   "name": "python3"
  },
  "language_info": {
   "codemirror_mode": {
    "name": "ipython",
    "version": 3
   },
   "file_extension": ".py",
   "mimetype": "text/x-python",
   "name": "python",
   "nbconvert_exporter": "python",
   "pygments_lexer": "ipython3",
   "version": "3.10.4"
  }
 },
 "nbformat": 4,
 "nbformat_minor": 5
}
